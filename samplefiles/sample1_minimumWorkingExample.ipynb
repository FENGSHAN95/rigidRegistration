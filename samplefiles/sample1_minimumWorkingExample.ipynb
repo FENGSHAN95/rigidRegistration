{
 "cells": [
  {
   "cell_type": "markdown",
   "metadata": {},
   "source": [
    "# Image registration: mimumum working example\n",
    "This notebook provides a sample implementation of the image registration approach described in detail in the paper \"Image registration of low signal-to-noise cryo-STEM data\" (doi: XXXXXX).  The code herein demonstrates the mimumum working example.  For more in-depth implementations (in particular, enabling more careful user-defined Fourier masking and outlier detection), see the additional two sample notebooks bundled with this package.  For a brief introduction to the approach implemented here, see the README.md file.  For more details, see the original paper.\n",
    "\n",
    "If this code was a useful resource for your work, please consider citing the associated publication."
   ]
  },
  {
   "cell_type": "code",
   "execution_count": 1,
   "metadata": {},
   "outputs": [
    {
     "name": "stderr",
     "output_type": "stream",
     "text": [
      "/Users/Ben/Code/anaconda2/envs/py3/lib/python3.5/site-packages/matplotlib/__init__.py:872: UserWarning: axes.color_cycle is deprecated and replaced with axes.prop_cycle; please use the latter.\n",
      "  warnings.warn(self.msg_depr % (key, alt_key))\n"
     ]
    },
    {
     "name": "stdout",
     "output_type": "stream",
     "text": [
      "Using matplotlib backend: Qt4Agg\n"
     ]
    }
   ],
   "source": [
    "# Import global libraries and functions\n",
    "import numpy as np\n",
    "import matplotlib.pyplot as plt\n",
    "from os import listdir\n",
    "from os.path import splitext, basename\n",
    "from time import time\n",
    "from tifffile import imread, imsave\n",
    "%matplotlib\n",
    "\n",
    "# Import local libraries\n",
    "import rigidregistration"
   ]
  },
  {
   "cell_type": "code",
   "execution_count": 2,
   "metadata": {},
   "outputs": [
    {
     "name": "stdout",
     "output_type": "stream",
     "text": [
      "Analyzing /Users/Ben/Work/Data/20170711_Nb3Cl8/tiffs/11_unsavedStack_ZoneAxix3.tif.\n"
     ]
    }
   ],
   "source": [
    "# Load data.\n",
    "\n",
    "# Here we use image stacks saved in .tif format, with 16-bit depth pixels.\n",
    "# To load data saved in any of the image formats outputted by standard electron microscopy acquisition software (.dm3, .ser, etc.)\n",
    "# into numpy arrays, we recommend the HyperSpy package (hyperspy.org).\n",
    "\n",
    "f=\"/Users/Ben/Work/Data/20170711_Nb3Cl8/tiffs/11_unsavedStack_ZoneAxix3.tif\"\n",
    "stack=imread(f)\n",
    "stack=np.rollaxis(stack,0,3)       # Restructed 3D array such that final axis iterates over images\n",
    "stack=stack[:,:,:]/float(2**16)    # For best performance, data should be normalized between 0 and 1; alter this line for different bit-depth images\n",
    "print(\"Analyzing {}.\".format(f))"
   ]
  },
  {
   "cell_type": "code",
   "execution_count": 4,
   "metadata": {
    "collapsed": true
   },
   "outputs": [],
   "source": [
    "# Inspect data to ensure it has been correctly loaded.\n",
    "\n",
    "for i in range(0,5):\n",
    "    fig,(ax1,ax2)=plt.subplots(1,2)\n",
    "    ax1.matshow(stack[:,:,i],cmap='gray')\n",
    "    ax2.matshow(np.log(np.abs(np.fft.fftshift(np.fft.fft2(stack[:,:,i])))),cmap='gray',vmin=np.average(np.log(np.abs(np.fft.fft2(stack[:,:,i]))))) \n",
    "    plt.show()"
   ]
  },
  {
   "cell_type": "code",
   "execution_count": 6,
   "metadata": {
    "collapsed": true
   },
   "outputs": [],
   "source": [
    "# Instantiate imstack object and acquire FFTs.\n",
    "\n",
    "s=rigidregistration.stackregistration.imstack(stack)  # Replace 'stack' with stack[:,:,i:f] to only use images i to f\n",
    "s.getFFTs()"
   ]
  },
  {
   "cell_type": "code",
   "execution_count": null,
   "metadata": {
    "collapsed": true
   },
   "outputs": [],
   "source": []
  },
  {
   "cell_type": "markdown",
   "metadata": {},
   "source": [
    "## Fourier masking"
   ]
  },
  {
   "cell_type": "markdown",
   "metadata": {
    "collapsed": true
   },
   "source": [
    "#### Selecting a Fourier mask\n",
    "\n",
    "The Fourier mask controls which information is used to align the image pairs.  The smaller the Fourier mask, the more the low-frequency information, i.e. slow variations in the image, is weighted to determine the correct alignments.  A smaller mask may be useful in cutting out noise, or in avoiding errors such as unit-cell misalignments in crystalline samples.  A mask that is too small may discard important structural information and lead to an imprecise alignment.\n",
    "\n",
    "Fourier masks can be created with the makeFourierMask() method, which accepts the parameters:\n",
    "\n",
    "    mask:   A string, indicating the functional form i.e. shape of the mask.  \n",
    "            Options are: \"bandpass\", \"lowpass\", \"hann\", \"hamming\", \"blackman\", \"gaussian\", \"none\".\n",
    "    n:      A float, controlling the mask size.  Features smaller than ~n pixels will be smoothed out \n",
    "            and ignored during image correlation.\n",
    "\n",
    "A smaller mask may improve the accuracy of the registration, at the expense of degrading the precision.  For data with higher SNR or strong structural features, choosing a mask with n at the information limit is frequently sufficient.  For low-SNR data, data with few distinctive features, or highly translationally symmetric data, choosing a mask with a cutoff frequency near the primary Bragg peaks may be preferable, as this heavily weights low frequency information to avoid unit-cell hops, but ideally contains just enough lattice information to 'lock-in' to the lattice.  \n",
    "\n",
    "The code below can be used to test various mask shapes and sizes for your data.  Both the FFT and the correlation function should be considered in choosing the best Fourier mask for a given dataset.  For more information on Fourier mask selection, see the README.md file, or the associated paper."
   ]
  },
  {
   "cell_type": "code",
   "execution_count": 12,
   "metadata": {
    "collapsed": true
   },
   "outputs": [],
   "source": [
    "# Mask shape\n",
    "\n",
    "# Display the mask shape options, and their effects on the crosscorrelation function between a pair of images.\n",
    "\n",
    "masktypes=[\"bandpass\",\"lowpass\",\"hann\",\"hamming\",\"blackman\",\"gaussian\",\"none\"]   # Mask shapes\n",
    "n=4                                                                              # Mask size\n",
    "\n",
    "i,j = 5,9                                  # Selects an image pair - the correlation function of these two images will be displayed \n",
    "for masktype in masktypes:                 # Iterate through all mask types\n",
    "    s.makeFourierMask(mask=masktype,n=n)   # Set the mask shape and size\n",
    "    s.show_Fourier_mask(i=i,j=j)           # Display the FFT of image i, the FFT with the mask applied, and the \n",
    "                                           # cross correlation function between images i and j"
   ]
  },
  {
   "cell_type": "code",
   "execution_count": 8,
   "metadata": {
    "collapsed": true
   },
   "outputs": [],
   "source": [
    "# Mask size\n",
    "\n",
    "# Display the effect of varying the mask size on the cross correlation function between image pairs\n",
    "\n",
    "masktype=\"hann\"                             # Set mask shape\n",
    "\n",
    "i,j = 5,9                                   # Choose image pair\n",
    "for n in np.arange(2,12,2):                 # Iterate over various mask sizes\n",
    "    s.makeFourierMask(mask=masktype,n=n)    # Set the mask shape and size\n",
    "    s.show_Fourier_mask(i=i,j=j)            # Display the FFT of image i, the FFT with the mask applied, and the \n",
    "                                            # cross correlation function between images i and j"
   ]
  },
  {
   "cell_type": "markdown",
   "metadata": {},
   "source": [
    "#### Fourier masking: anisotropic masks\n",
    "For lattices lacking high rotational symmetry, an anisotropic mask may be preferable to avoid overweighting one lattice direction.  The makeFourierMask_eg() method creates an elliptical gaussian mask, and accepts parameters:\n",
    "\n",
    "    n1:      A float, the mask size along the first axis.\n",
    "    n2:      A float, the mask size along the second axis.\n",
    "    theta:   A float, the tilt of the primary axes, in degrees.\n"
   ]
  },
  {
   "cell_type": "code",
   "execution_count": 9,
   "metadata": {
    "collapsed": true
   },
   "outputs": [],
   "source": [
    "# Make an elliptical Gaussian mask\n",
    "\n",
    "n1=4             # Set mask size along axis 1\n",
    "n2=2             # Set mask size along axis 2\n",
    "theta=20         # Set tilt of mask axes, in degrees\n",
    "\n",
    "s.makeFourierMask_eg(n1=n1,n2=n2,theta=np.radians(theta))   # Set the mask shape, size, and tilt\n",
    "s.show_Fourier_mask(i=i,j=j)                                # Display"
   ]
  },
  {
   "cell_type": "code",
   "execution_count": 10,
   "metadata": {
    "collapsed": true
   },
   "outputs": [],
   "source": [
    "# Varying tilt of an elliptical Gaussian mask\n",
    "\n",
    "n1=4                               # Mask size along axis 1\n",
    "n2=2                               # Mask size along axis 2\n",
    "thetas=[90,75,60,45,30,15,0]       # Tilt angles\n",
    "\n",
    "i,j = 5,9                          # Choose image pair\n",
    "for theta in thetas:                                             # Iterate through tilt angles\n",
    "    s.makeFourierMask_eg(n1=n1,n2=n2,theta=np.radians(theta))    # Set the mask\n",
    "    s.show_Fourier_mask(i=i,j=j)                                 # Display"
   ]
  },
  {
   "cell_type": "code",
   "execution_count": null,
   "metadata": {
    "collapsed": true
   },
   "outputs": [],
   "source": []
  },
  {
   "cell_type": "markdown",
   "metadata": {
    "collapsed": true
   },
   "source": [
    "## Calculate all relative image shifts\n",
    "Find the relative shifts between all pairs of images.  For each pair of images (i,j), this is accomplished by:\n",
    "1. Applying the selected Fourier mask\n",
    "2. Calculating the (masked, i.e. weighted) cross correlation between images i and j\n",
    "3. Identifying the maximum in the cross correlation\n"
   ]
  },
  {
   "cell_type": "markdown",
   "metadata": {},
   "source": [
    "#### Step 1 - Applying the mask\n",
    "The code from above should be used to select a good Fourier mask before the more computational intensive step of \n",
    "calculating all cross correlations is performed.  That said, iterating by fine tuning the Fourier mask choice \n",
    "based on the output of this step - the shift matrix - may sometimes be helpful.\n"
   ]
  },
  {
   "cell_type": "code",
   "execution_count": 16,
   "metadata": {},
   "outputs": [
    {
     "name": "stderr",
     "output_type": "stream",
     "text": [
      "/Users/Ben/Code/anaconda2/envs/py3/lib/python3.5/site-packages/rigidregistration-0.1-py3.5.egg/rigidregistration/display.py:112: RuntimeWarning: divide by zero encountered in log\n",
      "  ax2.matshow(np.log(np.abs(np.fft.fftshift(imstack.fftstack[:,:,i]*np.where(imstack.mask_fourierspace,imstack.mask_fourierspace,0.0001)))), cmap='gray',\n"
     ]
    }
   ],
   "source": [
    "# Once a suitable mask has been determined, set the mask with the makeFourierMask() or makeFourierMask_eg() method\n",
    "# The last of these two functions to be run will determine the mask used when calculating image shifts.\n",
    "\n",
    "n1=12\n",
    "n2=9.106\n",
    "theta=1.42\n",
    "\n",
    "s.makeFourierMask_eg(n1=n1,n2=n2,theta=theta)\n",
    "s.show_Fourier_mask(i=i,j=j)"
   ]
  },
  {
   "cell_type": "markdown",
   "metadata": {},
   "source": [
    "#### Step 2 - Calculate cross correlation function\n",
    "The cross correlation function is one of several types of correlation functions which may be appropriate for determining rigid image shifts.  Other options include the mutual correlation function, and phase correlation function.  For simplicity, only the cross correlation function is currently supported here.  For more information on alternative correlation functions, see, e.g. XXXX.\n",
    "\n",
    "#### Step 3 - Identify maximum\n",
    "Identifying the maximum in the cross correlation between images i and j may be performed one of two ways:\n",
    "1. Brightest pixel: the brightest pixel in the cross correlation function is used as the maximum.  This has the advantages of simplicity and speed, but limits the precision to shifts of integer numbers of pixels.  However, because the final shift applied to a given image is determined using its relative shifts with respect to all other images, the final shift values are subpixel, with error due to pixelated maximum identification averaging out for large image stacks.\n",
    "2. Guassian fitting: a gaussian fit is calculated about the brightest pixel.  This is aimed at atomic lattice images, and may not be suitable for data in which the cross correlation maximum is not approximately gaussian.  This approach provides a subpixel shift value, but adds additional complication and computation time.  An additional advantage of guassian fitting is that it may assist in avoiding identifying an incorrect, local maximum as the correct shift, particularly in cases where atomic peaks span only a handful of pixels, leading to the possibility of sampling errors. This is accomplished by fitting gaussians to the regions about brightest several pixels, and using the fitting gaussian with the largest amplitude.  For more information, see the original paper.\n",
    "\n",
    "The findImageShifts() method accepts the following parameters:\n",
    "\n",
    "    findMaxima:   A string, which sets the method used to identify the cross correlation maximum. \n",
    "                  Must be either 'pixel' for brightest pixel identification, or 'gf' for guassian fitting.\n",
    "    verbose:      (optional) A boolean variable, which determines if the progress of the function is printed.\n",
    "                  Default is True.\n",
    "\n",
    "If gaussing fitting is used, three additional parameters must be set, using the s.setGaussianFitParams() method:\n",
    "\n",
    "    num_peaks:     An integer, which sets the number of brightest pixels about which to fit gaussians. \n",
    "                   Must be either 'pixel' for brightest pixel identification, or 'gf' for guassian fitting.\n",
    "                   If there are no concerns about sampling error, this may be set to 1.\n",
    "    sigma_guess:   A float, which sets an initial guess for the width of the gaussian function.  May be set by\n",
    "                   observing the shapes of the local maximum peaks in the cross correlation function, or the atomic\n",
    "                   widths in the original data.\n",
    "    window_radius: An int, setting the size of the region in which a guassian is fit.  The data used for the fit \n",
    "                   is a box of size 2*window_radius+1, centered at the brightest pixel.  May be set by observing \n",
    "                   the shapee of the local maximum peaks in the cross correlation function, and should ensure\n",
    "                   neighboring peaks are excluded.\n"
   ]
  },
  {
   "cell_type": "code",
   "execution_count": 18,
   "metadata": {},
   "outputs": [
    {
     "name": "stdout",
     "output_type": "stream",
     "text": [
      "Performed 780.0 correlations in 0 minutes 8.471806049346924 seconds\n"
     ]
    }
   ],
   "source": [
    "# Find all image shifts by identifying the brightest cross correlation pixel\n",
    "\n",
    "findMaxima = 'pixel'                                       # Set method for cross correlation maximum identification\n",
    "\n",
    "t0=time()                                                  # Time the image shift calculation\n",
    "s.findImageShifts(findMaxima=findMaxima, verbose=False)    # Find all relative image shifts\n",
    "t=time()-t0\n",
    "print(\"Performed {} correlations in {} minutes {} seconds\".format(s.nz*(s.nz-1)/2,int(t/60),t%60))"
   ]
  },
  {
   "cell_type": "code",
   "execution_count": 19,
   "metadata": {},
   "outputs": [
    {
     "name": "stdout",
     "output_type": "stream",
     "text": [
      "Performed 780.0 correlations in 0 minutes 34.709245920181274 seconds\n"
     ]
    }
   ],
   "source": [
    "# Find all image shifts using guassian fitting to identify cross correlation maxima\n",
    "\n",
    "findMaxima = 'gf'                                                   # Set method for cross correlation maximum identification\n",
    "s.setGaussianFitParams(num_peaks=3,sigma_guess=3,window_radius=4)   # Set gaussian fitting parameters\n",
    "\n",
    "t0=time()                                                           # Time the image shift calculation\n",
    "s.findImageShifts(findMaxima=findMaxima, verbose=False)             # Find all relative image shifts\n",
    "t=time()-t0\n",
    "print(\"Performed {} correlations in {} minutes {} seconds\".format(s.nz*(s.nz-1)/2,int(t/60),t%60))"
   ]
  },
  {
   "cell_type": "code",
   "execution_count": null,
   "metadata": {
    "collapsed": true
   },
   "outputs": [],
   "source": []
  },
  {
   "cell_type": "markdown",
   "metadata": {},
   "source": [
    "\n",
    "Show the shift matrix with show_Rij() method.\n",
    "If applicable, set range of minimum and maximum images to include with set_nz(nz_min,nz_max) method.\n",
    "Find outliers with get_outliers(method, *args) method.  method parameter can be \"NN\", or \"transitivity\".  \"NN\" identifies outliers using only nearest neighbor elements of shift matrix, and requires an additional threshold parameter.  \"transitivity\" identifies outliers by identifying matrix elements which are inconsistent with physical stage positions, which must obey additive transitivity, and requires an additional threshold parameter, and an optional num_paths parameter."
   ]
  },
  {
   "cell_type": "markdown",
   "metadata": {},
   "source": [
    "## Assess the shift matrices\n",
    "For a stack of N images, the shift matrices $X_{ij}$ and $Y_{ij}$ are NxN matrices, in which $X_{ij}$ is the shift in the x-direction of image j with respect to image i (and similarly for $Y_{ij}$).  Note that these matrices are skew-symmetric, i.e. $X_{ji} = -X_{ij}$.\n",
    "\n",
    "Importantly, in order to be physically consistent, the shift matrices must respect the transitivity of vector addition, i.e.\n",
    "\n",
    "$\\mathbf{R}_{ik} = \\mathbf{R}_{ij} + \\mathbf{R}_{jk}$\n",
    "\n",
    "where $\\mathbf{R}_{ij} = X_{ij}\\mathbf{\\hat{x}} + Y_{ij}\\mathbf{\\hat{y}}$.\n",
    "It is therefore possible to ensure good image registration simply by enforcing that the sets of all relative image\n",
    "shifts are consistent in that they obey transitivity."
   ]
  },
  {
   "cell_type": "markdown",
   "metadata": {},
   "source": [
    "#### Visually assess the shift matrices\n",
    "Visually, transitivity implies that the shift matrices should 'look smooth', in a certain sense.\n",
    "They need not necessarily vary monotonically, and abrupt changes are possible - i.e. the stage drift may change direction - however any abrupt change should then appear in many places in the shift matrix (along rows/columns), as it will affect many relative image shift pairs.  Individual abberant matrix elements are generally unphysical.\n"
   ]
  },
  {
   "cell_type": "code",
   "execution_count": 20,
   "metadata": {
    "collapsed": true
   },
   "outputs": [],
   "source": [
    "# Show Xij and Yij matrices\n",
    "s.show_Rij()"
   ]
  },
  {
   "cell_type": "markdown",
   "metadata": {},
   "source": [
    "#### Identify incorrect matrix elements\n",
    "Identifying incorrect matrix elements can be performed in several ways:\n",
    "1. Throw away entire images\n",
    "2. Automatically identify outliers in the shift matrices\n",
    "3. Identify outliers by hand\n",
    "\n",
    "The code below demonstrates how each of these approaches can be implemented."
   ]
  },
  {
   "cell_type": "code",
   "execution_count": 22,
   "metadata": {
    "collapsed": true
   },
   "outputs": [],
   "source": [
    "# Throw away entire images - option 1: use a consecutive subset of the image stack\n",
    "\n",
    "s.set_nz(0,27)               # Set min/maz useable image indices.  Images outside this range will not be used.\n",
    "s.show_Rij(mask=True)        # Display"
   ]
  },
  {
   "cell_type": "code",
   "execution_count": 23,
   "metadata": {
    "collapsed": true
   },
   "outputs": [],
   "source": [
    "# Throw away entire images - option 2: select bad images\n",
    "\n",
    "s.set_bad_images([2,3,8])    # Images with selected indices will not be used.\n",
    "s.show_Rij(mask=True)        # Display"
   ]
  },
  {
   "cell_type": "code",
   "execution_count": 26,
   "metadata": {},
   "outputs": [
    {
     "name": "stdout",
     "output_type": "stream",
     "text": [
      "Outlier detection method must be 'NN' or 'transitivity'. Skipping outlier detection\n"
     ]
    }
   ],
   "source": [
    "# Automatically identify outliers - option 1: enforce smoothness by comparing to nearest neighbors\n",
    "\n",
    "s.get_outliers(\"NN\",10)       # Set outlier threshhold"
   ]
  },
  {
   "cell_type": "code",
   "execution_count": 27,
   "metadata": {
    "collapsed": true
   },
   "outputs": [],
   "source": [
    "s.get_outliers?"
   ]
  },
  {
   "cell_type": "code",
   "execution_count": null,
   "metadata": {
    "collapsed": true
   },
   "outputs": [],
   "source": []
  },
  {
   "cell_type": "code",
   "execution_count": 18,
   "metadata": {
    "collapsed": true
   },
   "outputs": [],
   "source": [
    "# Automatically identify outliers - option 1: enforce smoothness by comparing to nearest neighbors\n",
    "\n",
    "s.set_nz(0,27)               # Set min/maz useable image indices\n",
    "\n",
    "s.get_outliers(\"transitivity\",10,10)       # Set outlier threshhold\n",
    "s.set_bad_images([])         # Set bad images\n",
    "\n",
    "s.show_Rij(mask=True)"
   ]
  },
  {
   "cell_type": "code",
   "execution_count": 19,
   "metadata": {
    "collapsed": true
   },
   "outputs": [],
   "source": [
    "# Optionally, add or remove points from the outlier mask that were not correctly identified\n",
    "\n",
    "correct_pairs=[[11,12],[11,13]]\n",
    "incorrect_pairs=[[1,9]]\n",
    "\n",
    "for pair in correct_pairs:\n",
    "    i,j=pair[0],pair[1]\n",
    "    s.Rij_mask[i,j]=1\n",
    "    s.Rij_mask[j,i]=1\n",
    "for pair in incorrect_pairs:\n",
    "    i,j=pair[0],pair[1]\n",
    "    s.Rij_mask[i,j]=0\n",
    "    s.Rij_mask[j,i]=0\n",
    "    \n",
    "s.show_Rij()"
   ]
  },
  {
   "cell_type": "code",
   "execution_count": 20,
   "metadata": {
    "collapsed": true
   },
   "outputs": [],
   "source": [
    "s.Rij_mask[:5,15]=0\n",
    "s.Rij_mask[:3,18]=0\n",
    "s.Rij_mask[:8,24:26]=0\n",
    "s.Rij_mask[15,:5]=0\n",
    "s.Rij_mask[18,:3]=0\n",
    "s.Rij_mask[24:26,:8]=0\n",
    "\n",
    "s.show_Rij()"
   ]
  },
  {
   "cell_type": "code",
   "execution_count": null,
   "metadata": {
    "collapsed": true
   },
   "outputs": [],
   "source": []
  },
  {
   "cell_type": "markdown",
   "metadata": {},
   "source": [
    "### Remove outliers\n",
    "The make_corrected_Rij() method determines the correct values for outliers in the shift matrices using transitivity, and the show_Rij_c() method shows the corrected shift matrices.\n",
    "\n",
    "This step is optional, as it is performed automatically when get_average_image() is run if not called manually.\n",
    "However, manually calling make_corrected_Rij() is recommended so that the final shift matrices can be visually inspected to ensure physical consistency."
   ]
  },
  {
   "cell_type": "code",
   "execution_count": 21,
   "metadata": {
    "collapsed": true
   },
   "outputs": [],
   "source": [
    "s.make_corrected_Rij()\n",
    "s.show_Rij_c()"
   ]
  },
  {
   "cell_type": "code",
   "execution_count": null,
   "metadata": {
    "collapsed": true
   },
   "outputs": [],
   "source": []
  },
  {
   "cell_type": "markdown",
   "metadata": {},
   "source": [
    "### Calculate average image"
   ]
  },
  {
   "cell_type": "code",
   "execution_count": 22,
   "metadata": {
    "collapsed": true
   },
   "outputs": [],
   "source": [
    "# Create registered image stack and average\n",
    "\n",
    "s.get_averaged_image()"
   ]
  },
  {
   "cell_type": "code",
   "execution_count": 23,
   "metadata": {
    "collapsed": true
   },
   "outputs": [],
   "source": [
    "# Display final image\n",
    "\n",
    "s.show()"
   ]
  },
  {
   "cell_type": "code",
   "execution_count": 24,
   "metadata": {
    "collapsed": true
   },
   "outputs": [],
   "source": [
    "# Display report of registration procedure\n",
    "\n",
    "s.show_report()"
   ]
  },
  {
   "cell_type": "code",
   "execution_count": 25,
   "metadata": {
    "collapsed": true
   },
   "outputs": [],
   "source": [
    "# Save report of registration procedure\n",
    "\n",
    "s.save_report(\"/Users/Ben/Desktop/test_report.pdf\")"
   ]
  },
  {
   "cell_type": "code",
   "execution_count": null,
   "metadata": {
    "collapsed": true
   },
   "outputs": [],
   "source": []
  },
  {
   "cell_type": "markdown",
   "metadata": {
    "collapsed": true
   },
   "source": [
    "Note that the full field of view of the original data has been preserved in the final image for computational simplicity, however, data at the edges is not physically meaningful.  All shifts are stored as 1D arrays in the attributes shifts_x and shifts_y, thus to obtain the limits of physical meaningful data, use, e.g. s.shifts_x.max(), s.shifts_x.min(), etc."
   ]
  },
  {
   "cell_type": "code",
   "execution_count": null,
   "metadata": {
    "collapsed": true
   },
   "outputs": [],
   "source": []
  },
  {
   "cell_type": "code",
   "execution_count": null,
   "metadata": {
    "collapsed": true
   },
   "outputs": [],
   "source": []
  }
 ],
 "metadata": {
  "anaconda-cloud": {},
  "kernelspec": {
   "display_name": "Python [conda env:py3]",
   "language": "python",
   "name": "conda-env-py3-py"
  },
  "language_info": {
   "codemirror_mode": {
    "name": "ipython",
    "version": 3
   },
   "file_extension": ".py",
   "mimetype": "text/x-python",
   "name": "python",
   "nbconvert_exporter": "python",
   "pygments_lexer": "ipython3",
   "version": "3.5.2"
  }
 },
 "nbformat": 4,
 "nbformat_minor": 1
}
