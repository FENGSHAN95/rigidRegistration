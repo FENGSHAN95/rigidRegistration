{
 "cells": [
  {
   "cell_type": "markdown",
   "metadata": {},
   "source": [
    "## Image registration: mimumum working example\n",
    "This notebook provides a sample implementation of the image registration approach described in detail in the paper \"Image registration of low signal-to-noise cryo-STEM data\" (doi: XXXXXX).  The code herein demonstrates the mimumum working example.  For more in-depth implementations (in particular, enabling more careful user-defined Fourier masking and outlier detection), see the additional two sample notebooks bundled with this package.  For a brief introduction to the approach implemented here, see the README.md file.  For more details, see the original paper.\n",
    "\n",
    "If this code was a useful resource for your work, please consider citing the associated publication."
   ]
  },
  {
   "cell_type": "code",
   "execution_count": 4,
   "metadata": {},
   "outputs": [
    {
     "name": "stdout",
     "output_type": "stream",
     "text": [
      "Using matplotlib backend: Qt4Agg\n"
     ]
    }
   ],
   "source": [
    "# Import global libraries and functions\n",
    "import numpy as np\n",
    "import matplotlib.pyplot as plt\n",
    "from os import listdir\n",
    "from os.path import splitext, basename\n",
    "from time import time\n",
    "from tifffile import imread, imsave\n",
    "%matplotlib\n",
    "\n",
    "# Import local libraries\n",
    "import rigidregistration"
   ]
  },
  {
   "cell_type": "code",
   "execution_count": 5,
   "metadata": {},
   "outputs": [
    {
     "name": "stdout",
     "output_type": "stream",
     "text": [
      "Analyzing /Users/Ben/Work/Data/20170711_Nb3Cl8/tiffs/11_unsavedStack_ZoneAxix3.tif.\n"
     ]
    }
   ],
   "source": [
    "# Load data.\n",
    "\n",
    "# Here we use image stacks saved in .tif format, with 16-bit depth pixels.\n",
    "# To load data saved in any of the image formats outputted by standard electron microscopy acquisition software (.dm3, .ser, etc.)\n",
    "# into numpy arrays, we recommend the HyperSpy package (hyperspy.org).\n",
    "\n",
    "f=\"/Users/Ben/Work/Data/20170711_Nb3Cl8/tiffs/11_unsavedStack_ZoneAxix3.tif\"\n",
    "stack=imread(f)\n",
    "stack=np.rollaxis(stack,0,3)       # Restructed 3D array such that final axis iterates over images\n",
    "stack=stack[:,:,:]/float(2**16)    # For best performance, data should be normalized between 0 and 1; alter this line for different bit-depth images\n",
    "print(\"Analyzing {}.\".format(f))"
   ]
  },
  {
   "cell_type": "code",
   "execution_count": 6,
   "metadata": {},
   "outputs": [],
   "source": [
    "# Inspect data to ensure it has been correctly loaded.\n",
    "\n",
    "for i in range(24,28):\n",
    "    fig,(ax1,ax2)=plt.subplots(1,2)\n",
    "    ax1.matshow(stack[:,:,i],cmap='gray')\n",
    "    ax2.matshow(np.log(np.abs(np.fft.fftshift(np.fft.fft2(stack[:,:,i])))),cmap='gray',vmin=np.average(np.log(np.abs(np.fft.fft2(stack[:,:,i]))))) \n",
    "    plt.show()"
   ]
  },
  {
   "cell_type": "code",
   "execution_count": 7,
   "metadata": {
    "collapsed": true
   },
   "outputs": [],
   "source": [
    "# Instantiate imstack object and acquire FFTs.\n",
    "\n",
    "s=rigidregistration.stackregistration.imstack(stack[:,:,:27])\n",
    "s.getFFTs()"
   ]
  },
  {
   "cell_type": "code",
   "execution_count": null,
   "metadata": {
    "collapsed": true
   },
   "outputs": [],
   "source": []
  },
  {
   "cell_type": "markdown",
   "metadata": {
    "collapsed": true
   },
   "source": [
    "### Fourier masking\n",
    "Select a Fourier mask.  \n",
    "\n",
    "The Fourier mask controls which information is used to align the image pairs.  The smaller the Fourier mask, the more the low-frequency information, i.e. slow variations in the image, is used to determine the correct alignments.  A smaller mask may be useful in cutting out noise, or in avoiding errors such as unit-cell misalignments in crystalline samples.  A mask that is too small may discard important structural information and lead to an imprecise alignment.  Generally, a smaller mask improves the accuracy of the registration, but degrades the precision.  For more information on Fourier mask selection, see the README.md file, or the associated paper.\n",
    "\n",
    "The parameters used here for Fourier masks are as follows:\n",
    "\n",
    "    mask:   A string, indicating the functional form i.e. shape of the mask.  \n",
    "            Options are: \"bandpass\", \"lowpass\", \"hann\", \"hamming\", \"blackman\", \"gaussian\", \"none\".\n",
    "    n:      A float, controlling the mask size.  Features smaller than ~n pixels will be smoothed out \n",
    "            and ignored during image correlation.\n",
    "\n",
    "In all cases, the parameter n controls the mask cutoff frequency; features smaller than ~n pixels will be ignored during image correlation.\n",
    "For data with higher SNR, choosing a mask with n at the information limit is frequently sufficient.\n",
    "For low-SNR data, choosing a mask with a cutoff frequency near the primary Bragg peaks is often preferable, as this heavily weights low frequency information to avoid unit-cell hops, but ideally contains just enough lattice information to 'lock-in' to the lattice.\n",
    "\n",
    "Supported apodization functions for makeFourierMask() method are \"bandpass\", \"lowpass\", \"hann\", \"hamming\", \"blackman\", \"gaussian\", \"none\".\n",
    "For lattices lacking high rotational symmetry, an anisotropic mask is generally preferable to avoid overweighting one lattice direction.  The makeFourierMask_eg() method creates an elliptical gaussian mask, with parameters n1, n2, and theta, corresponding to cutoff frequencies along the two primary axes and the mask tilt in degrees."
   ]
  },
  {
   "cell_type": "code",
   "execution_count": 7,
   "metadata": {
    "collapsed": true
   },
   "outputs": [],
   "source": [
    "# Mask shape options\n",
    "\n",
    "masktypes=[\"bandpass\",\"lowpass\",\"hann\",\"hamming\",\"blackman\",\"gaussian\",\"none\"]\n",
    "n=4\n",
    "\n",
    "i,j = 5,9   # Choose image pair\n",
    "for masktype in masktypes:\n",
    "    s.makeFourierMask(mask=masktype,n=n)\n",
    "    s.show_Fourier_mask(i=i,j=j)"
   ]
  },
  {
   "cell_type": "code",
   "execution_count": 8,
   "metadata": {
    "collapsed": true
   },
   "outputs": [],
   "source": [
    "# Vary cutoff frequencies\n",
    "\n",
    "masktype=\"hann\"\n",
    "\n",
    "i,j = 5,9   # Choose image pair\n",
    "for n in np.arange(2,12,2):\n",
    "    s.makeFourierMask(mask=masktype,n=n)\n",
    "    s.show_Fourier_mask(i=i,j=j)"
   ]
  },
  {
   "cell_type": "code",
   "execution_count": 9,
   "metadata": {
    "collapsed": true
   },
   "outputs": [],
   "source": [
    "# Make elliptical Gaussian mask\n",
    "\n",
    "n1=4\n",
    "n2=2\n",
    "theta=20\n",
    "\n",
    "s.makeFourierMask_eg(n1=n1,n2=n2,theta=np.radians(theta))\n",
    "s.show_Fourier_mask(i=i,j=j)"
   ]
  },
  {
   "cell_type": "code",
   "execution_count": 10,
   "metadata": {
    "collapsed": true
   },
   "outputs": [],
   "source": [
    "# Vary elliptical Gaussian angle\n",
    "\n",
    "n1=4\n",
    "n2=2\n",
    "thetas=[90,75,60,45,30,15,0]\n",
    "\n",
    "i,j = 5,9   # Choose image pair\n",
    "for theta in thetas:\n",
    "    s.makeFourierMask_eg(n1=n1,n2=n2,theta=np.radians(theta))\n",
    "    s.show_Fourier_mask(i=i,j=j)"
   ]
  },
  {
   "cell_type": "code",
   "execution_count": null,
   "metadata": {
    "collapsed": true
   },
   "outputs": [],
   "source": []
  },
  {
   "cell_type": "markdown",
   "metadata": {
    "collapsed": true
   },
   "source": [
    "### Calculate all cross correlations\n",
    "Calculate the relative shifts between all pairs of images.\n",
    "\n",
    "findMaxima can be \"pixel\" or \"gf\", corresponding to identifying the shift between two images as the maximum pixel in their cross correlation, or fitting gaussians to identify the shift, which both results in subpixel resolution and also handles some sampling errors.\n",
    "\n",
    "num_peaks sets how many maxima to fit gaussians to; typically 3-5 are sufficient to handle sampling problems.\n",
    "\n",
    "sigma_guess sets the initial guess for the standard deviation of the guassian fits, in pixels.  May be estimated quickly from the peak widths in the cross correlations or the width of atomic columns in the raw data.\n",
    "\n",
    "correlationType sets the type of correlation used to determine image shifts. \"cc\", \"mc\", or \"pc\" set the correlation to the cross correlation, mutual correlation, or phase correlation, respectively.  **Note: only 'cc' is currently supported.**"
   ]
  },
  {
   "cell_type": "code",
   "execution_count": 11,
   "metadata": {},
   "outputs": [
    {
     "name": "stderr",
     "output_type": "stream",
     "text": [
      "/Users/Ben/Code/anaconda2/envs/py3/lib/python3.5/site-packages/rigidregistration-0.1-py3.5.egg/rigidregistration/display.py:112: RuntimeWarning: divide by zero encountered in log\n",
      "  ax2.matshow(np.log(np.abs(np.fft.fftshift(imstack.fftstack[:,:,i]*np.where(imstack.mask_fourierspace,imstack.mask_fourierspace,0.0001)))), cmap='gray',\n"
     ]
    }
   ],
   "source": [
    "# Make elliptical Gaussian mask\n",
    "\n",
    "n1=12\n",
    "n2=9.106\n",
    "theta=1.42\n",
    "\n",
    "s.makeFourierMask_eg(n1=n1,n2=n2,theta=theta)\n",
    "s.show_Fourier_mask(i=i,j=j)"
   ]
  },
  {
   "cell_type": "code",
   "execution_count": 12,
   "metadata": {},
   "outputs": [
    {
     "name": "stdout",
     "output_type": "stream",
     "text": [
      "Correlating images 0 and 1\n",
      "Correlating images 0 and 2\n",
      "Correlating images 0 and 3\n",
      "Correlating images 0 and 4\n",
      "Correlating images 0 and 5\n",
      "Correlating images 0 and 6\n",
      "Correlating images 0 and 7\n",
      "Correlating images 0 and 8\n",
      "Correlating images 0 and 9\n",
      "Correlating images 0 and 10\n",
      "Correlating images 0 and 11\n",
      "Correlating images 0 and 12\n",
      "Correlating images 0 and 13\n",
      "Correlating images 0 and 14\n",
      "Correlating images 0 and 15\n",
      "Correlating images 0 and 16\n",
      "Correlating images 0 and 17\n",
      "Correlating images 0 and 18\n",
      "Correlating images 0 and 19\n",
      "Correlating images 0 and 20\n",
      "Correlating images 0 and 21\n",
      "Correlating images 0 and 22\n",
      "Correlating images 0 and 23\n",
      "Correlating images 0 and 24\n",
      "Correlating images 0 and 25\n",
      "Correlating images 0 and 26\n",
      "Correlating images 1 and 2\n",
      "Correlating images 1 and 3\n",
      "Correlating images 1 and 4\n",
      "Correlating images 1 and 5\n",
      "Correlating images 1 and 6\n",
      "Correlating images 1 and 7\n",
      "Correlating images 1 and 8\n",
      "Correlating images 1 and 9\n",
      "Correlating images 1 and 10\n",
      "Correlating images 1 and 11\n",
      "Correlating images 1 and 12\n",
      "Correlating images 1 and 13\n",
      "Correlating images 1 and 14\n",
      "Correlating images 1 and 15\n",
      "Correlating images 1 and 16\n",
      "Correlating images 1 and 17\n",
      "Correlating images 1 and 18\n",
      "Correlating images 1 and 19\n",
      "Correlating images 1 and 20\n",
      "Correlating images 1 and 21\n",
      "Correlating images 1 and 22\n",
      "Correlating images 1 and 23\n",
      "Correlating images 1 and 24\n",
      "Correlating images 1 and 25\n",
      "Correlating images 1 and 26\n",
      "Correlating images 2 and 3\n",
      "Correlating images 2 and 4\n",
      "Correlating images 2 and 5\n",
      "Correlating images 2 and 6\n",
      "Correlating images 2 and 7\n",
      "Correlating images 2 and 8\n",
      "Correlating images 2 and 9\n",
      "Correlating images 2 and 10\n",
      "Correlating images 2 and 11\n",
      "Correlating images 2 and 12\n",
      "Correlating images 2 and 13\n",
      "Correlating images 2 and 14\n",
      "Correlating images 2 and 15\n",
      "Correlating images 2 and 16\n",
      "Correlating images 2 and 17\n",
      "Correlating images 2 and 18\n",
      "Correlating images 2 and 19\n",
      "Correlating images 2 and 20\n",
      "Correlating images 2 and 21\n",
      "Correlating images 2 and 22\n",
      "Correlating images 2 and 23\n",
      "Correlating images 2 and 24\n",
      "Correlating images 2 and 25\n",
      "Correlating images 2 and 26\n",
      "Correlating images 3 and 4\n",
      "Correlating images 3 and 5\n",
      "Correlating images 3 and 6\n",
      "Correlating images 3 and 7\n",
      "Correlating images 3 and 8\n",
      "Correlating images 3 and 9\n",
      "Correlating images 3 and 10\n",
      "Correlating images 3 and 11\n",
      "Correlating images 3 and 12\n",
      "Correlating images 3 and 13\n",
      "Correlating images 3 and 14\n",
      "Correlating images 3 and 15\n",
      "Correlating images 3 and 16\n",
      "Correlating images 3 and 17\n",
      "Correlating images 3 and 18\n",
      "Correlating images 3 and 19\n",
      "Correlating images 3 and 20\n",
      "Correlating images 3 and 21\n",
      "Correlating images 3 and 22\n",
      "Correlating images 3 and 23\n",
      "Correlating images 3 and 24\n",
      "Correlating images 3 and 25\n",
      "Correlating images 3 and 26\n",
      "Correlating images 4 and 5\n",
      "Correlating images 4 and 6\n",
      "Correlating images 4 and 7\n",
      "Correlating images 4 and 8\n",
      "Correlating images 4 and 9\n",
      "Correlating images 4 and 10\n",
      "Correlating images 4 and 11\n",
      "Correlating images 4 and 12\n",
      "Correlating images 4 and 13\n",
      "Correlating images 4 and 14\n",
      "Correlating images 4 and 15\n",
      "Correlating images 4 and 16\n",
      "Correlating images 4 and 17\n",
      "Correlating images 4 and 18\n",
      "Correlating images 4 and 19\n",
      "Correlating images 4 and 20\n",
      "Correlating images 4 and 21\n",
      "Correlating images 4 and 22\n",
      "Correlating images 4 and 23\n",
      "Correlating images 4 and 24\n",
      "Correlating images 4 and 25\n",
      "Correlating images 4 and 26\n",
      "Correlating images 5 and 6\n",
      "Correlating images 5 and 7\n",
      "Correlating images 5 and 8\n",
      "Correlating images 5 and 9\n",
      "Correlating images 5 and 10\n",
      "Correlating images 5 and 11\n",
      "Correlating images 5 and 12\n",
      "Correlating images 5 and 13\n",
      "Correlating images 5 and 14\n",
      "Correlating images 5 and 15\n",
      "Correlating images 5 and 16\n",
      "Correlating images 5 and 17\n",
      "Correlating images 5 and 18\n",
      "Correlating images 5 and 19\n",
      "Correlating images 5 and 20\n",
      "Correlating images 5 and 21\n",
      "Correlating images 5 and 22\n",
      "Correlating images 5 and 23\n",
      "Correlating images 5 and 24\n",
      "Correlating images 5 and 25\n",
      "Correlating images 5 and 26\n",
      "Correlating images 6 and 7\n",
      "Correlating images 6 and 8\n",
      "Correlating images 6 and 9\n",
      "Correlating images 6 and 10\n",
      "Correlating images 6 and 11\n",
      "Correlating images 6 and 12\n",
      "Correlating images 6 and 13\n",
      "Correlating images 6 and 14\n",
      "Correlating images 6 and 15\n",
      "Correlating images 6 and 16\n",
      "Correlating images 6 and 17\n",
      "Correlating images 6 and 18\n",
      "Correlating images 6 and 19\n",
      "Correlating images 6 and 20\n",
      "Correlating images 6 and 21\n",
      "Correlating images 6 and 22\n",
      "Correlating images 6 and 23\n",
      "Correlating images 6 and 24\n",
      "Correlating images 6 and 25\n",
      "Correlating images 6 and 26\n",
      "Correlating images 7 and 8\n",
      "Correlating images 7 and 9\n",
      "Correlating images 7 and 10\n",
      "Correlating images 7 and 11\n",
      "Correlating images 7 and 12\n",
      "Correlating images 7 and 13\n",
      "Correlating images 7 and 14\n",
      "Correlating images 7 and 15\n",
      "Correlating images 7 and 16\n",
      "Correlating images 7 and 17\n",
      "Correlating images 7 and 18\n",
      "Correlating images 7 and 19\n",
      "Correlating images 7 and 20\n",
      "Correlating images 7 and 21\n",
      "Correlating images 7 and 22\n",
      "Correlating images 7 and 23\n",
      "Correlating images 7 and 24\n",
      "Correlating images 7 and 25\n",
      "Correlating images 7 and 26\n",
      "Correlating images 8 and 9\n",
      "Correlating images 8 and 10\n",
      "Correlating images 8 and 11\n",
      "Correlating images 8 and 12\n",
      "Correlating images 8 and 13\n",
      "Correlating images 8 and 14\n",
      "Correlating images 8 and 15\n",
      "Correlating images 8 and 16\n",
      "Correlating images 8 and 17\n",
      "Correlating images 8 and 18\n",
      "Correlating images 8 and 19\n",
      "Correlating images 8 and 20\n",
      "Correlating images 8 and 21\n",
      "Correlating images 8 and 22\n",
      "Correlating images 8 and 23\n",
      "Correlating images 8 and 24\n",
      "Correlating images 8 and 25\n",
      "Correlating images 8 and 26\n",
      "Correlating images 9 and 10\n",
      "Correlating images 9 and 11\n",
      "Correlating images 9 and 12\n",
      "Correlating images 9 and 13\n",
      "Correlating images 9 and 14\n",
      "Correlating images 9 and 15\n",
      "Correlating images 9 and 16\n",
      "Correlating images 9 and 17\n",
      "Correlating images 9 and 18\n",
      "Correlating images 9 and 19\n",
      "Correlating images 9 and 20\n",
      "Correlating images 9 and 21\n",
      "Correlating images 9 and 22\n",
      "Correlating images 9 and 23\n",
      "Correlating images 9 and 24\n",
      "Correlating images 9 and 25\n",
      "Correlating images 9 and 26\n",
      "Correlating images 10 and 11\n",
      "Correlating images 10 and 12\n",
      "Correlating images 10 and 13\n",
      "Correlating images 10 and 14\n",
      "Correlating images 10 and 15\n",
      "Correlating images 10 and 16\n",
      "Correlating images 10 and 17\n",
      "Correlating images 10 and 18\n",
      "Correlating images 10 and 19\n",
      "Correlating images 10 and 20\n",
      "Correlating images 10 and 21\n",
      "Correlating images 10 and 22\n",
      "Correlating images 10 and 23\n",
      "Correlating images 10 and 24\n",
      "Correlating images 10 and 25\n",
      "Correlating images 10 and 26\n",
      "Correlating images 11 and 12\n",
      "Correlating images 11 and 13\n",
      "Correlating images 11 and 14\n",
      "Correlating images 11 and 15\n",
      "Correlating images 11 and 16\n",
      "Correlating images 11 and 17\n",
      "Correlating images 11 and 18\n",
      "Correlating images 11 and 19\n",
      "Correlating images 11 and 20\n",
      "Correlating images 11 and 21\n",
      "Correlating images 11 and 22\n",
      "Correlating images 11 and 23\n",
      "Correlating images 11 and 24\n",
      "Correlating images 11 and 25\n",
      "Correlating images 11 and 26\n",
      "Correlating images 12 and 13\n",
      "Correlating images 12 and 14\n",
      "Correlating images 12 and 15\n",
      "Correlating images 12 and 16\n",
      "Correlating images 12 and 17\n",
      "Correlating images 12 and 18\n",
      "Correlating images 12 and 19\n",
      "Correlating images 12 and 20\n",
      "Correlating images 12 and 21\n",
      "Correlating images 12 and 22\n",
      "Correlating images 12 and 23\n",
      "Correlating images 12 and 24\n",
      "Correlating images 12 and 25\n",
      "Correlating images 12 and 26\n",
      "Correlating images 13 and 14\n",
      "Correlating images 13 and 15\n",
      "Correlating images 13 and 16\n",
      "Correlating images 13 and 17\n",
      "Correlating images 13 and 18\n",
      "Correlating images 13 and 19\n",
      "Correlating images 13 and 20\n",
      "Correlating images 13 and 21\n",
      "Correlating images 13 and 22\n",
      "Correlating images 13 and 23\n",
      "Correlating images 13 and 24\n",
      "Correlating images 13 and 25\n",
      "Correlating images 13 and 26\n",
      "Correlating images 14 and 15\n",
      "Correlating images 14 and 16\n",
      "Correlating images 14 and 17\n",
      "Correlating images 14 and 18\n",
      "Correlating images 14 and 19\n",
      "Correlating images 14 and 20\n",
      "Correlating images 14 and 21\n",
      "Correlating images 14 and 22\n",
      "Correlating images 14 and 23\n",
      "Correlating images 14 and 24\n",
      "Correlating images 14 and 25\n",
      "Correlating images 14 and 26\n",
      "Correlating images 15 and 16\n",
      "Correlating images 15 and 17\n",
      "Correlating images 15 and 18\n",
      "Correlating images 15 and 19\n",
      "Correlating images 15 and 20\n",
      "Correlating images 15 and 21\n",
      "Correlating images 15 and 22\n",
      "Correlating images 15 and 23\n",
      "Correlating images 15 and 24\n",
      "Correlating images 15 and 25\n",
      "Correlating images 15 and 26\n",
      "Correlating images 16 and 17\n"
     ]
    },
    {
     "name": "stdout",
     "output_type": "stream",
     "text": [
      "Correlating images 16 and 18\n",
      "Correlating images 16 and 19\n",
      "Correlating images 16 and 20\n",
      "Correlating images 16 and 21\n",
      "Correlating images 16 and 22\n",
      "Correlating images 16 and 23\n",
      "Correlating images 16 and 24\n",
      "Correlating images 16 and 25\n",
      "Correlating images 16 and 26\n",
      "Correlating images 17 and 18\n",
      "Correlating images 17 and 19\n",
      "Correlating images 17 and 20\n",
      "Correlating images 17 and 21\n",
      "Correlating images 17 and 22\n",
      "Correlating images 17 and 23\n",
      "Correlating images 17 and 24\n",
      "Correlating images 17 and 25\n",
      "Correlating images 17 and 26\n",
      "Correlating images 18 and 19\n",
      "Correlating images 18 and 20\n",
      "Correlating images 18 and 21\n",
      "Correlating images 18 and 22\n",
      "Correlating images 18 and 23\n",
      "Correlating images 18 and 24\n",
      "Correlating images 18 and 25\n",
      "Correlating images 18 and 26\n",
      "Correlating images 19 and 20\n",
      "Correlating images 19 and 21\n",
      "Correlating images 19 and 22\n",
      "Correlating images 19 and 23\n",
      "Correlating images 19 and 24\n",
      "Correlating images 19 and 25\n",
      "Correlating images 19 and 26\n",
      "Correlating images 20 and 21\n",
      "Correlating images 20 and 22\n",
      "Correlating images 20 and 23\n",
      "Correlating images 20 and 24\n",
      "Correlating images 20 and 25\n",
      "Correlating images 20 and 26\n",
      "Correlating images 21 and 22\n",
      "Correlating images 21 and 23\n",
      "Correlating images 21 and 24\n",
      "Correlating images 21 and 25\n",
      "Correlating images 21 and 26\n",
      "Correlating images 22 and 23\n",
      "Correlating images 22 and 24\n",
      "Correlating images 22 and 25\n",
      "Correlating images 22 and 26\n",
      "Correlating images 23 and 24\n",
      "Correlating images 23 and 25\n",
      "Correlating images 23 and 26\n",
      "Correlating images 24 and 25\n",
      "Correlating images 24 and 26\n",
      "Correlating images 25 and 26\n",
      "Performed 351.0 correlations in 0 minutes 15.208961009979248 seconds\n"
     ]
    }
   ],
   "source": [
    "findMaxima = 'gf'\n",
    "s.setGaussianFitParams(num_peaks=5,sigma_guess=3,window_radius=4)\n",
    "\n",
    "n1=12\n",
    "n2=9.106\n",
    "theta=1.4213702504683843\n",
    "s.makeFourierMask_eg(n1=n1,n2=n2,theta=theta)\n",
    "\n",
    "# Find all image shifts\n",
    "t0=time()\n",
    "s.findImageShifts(correlationType='cc',findMaxima=findMaxima)\n",
    "t=time()-t0\n",
    "print(\"Performed {} correlations in {} minutes {} seconds\".format(s.nz*(s.nz-1)/2,int(t/60),t%60))"
   ]
  },
  {
   "cell_type": "code",
   "execution_count": null,
   "metadata": {
    "collapsed": true
   },
   "outputs": [],
   "source": []
  },
  {
   "cell_type": "markdown",
   "metadata": {},
   "source": [
    "### Identify outliers in shift matrix\n",
    "Show the shift matrix with show)Rij() method.\n",
    "If applicable, set range of minimum and maximum images to include with set_nz(nz_min,nz_max) method.\n",
    "Find outliers with get_outliers(method, *args) method.  method parameter can be \"NN\", or \"transitivity\".  \"NN\" identifies outliers using only nearest neighbor elements of shift matrix, and requires an additional threshold parameter.  \"transitivity\" identifies outliers by identifying matrix elements which are inconsistent with physical stage positions, which must obey additive transitivity, and requires an additional threshold parameter, and an optional num_paths parameter."
   ]
  },
  {
   "cell_type": "code",
   "execution_count": 13,
   "metadata": {
    "collapsed": true
   },
   "outputs": [],
   "source": [
    "# Show Xij and Yij matrices\n",
    "s.show_Rij()"
   ]
  },
  {
   "cell_type": "code",
   "execution_count": 18,
   "metadata": {
    "collapsed": true
   },
   "outputs": [],
   "source": [
    "# Create mask, defining unuseable data points\n",
    "\n",
    "s.set_nz(0,27)               # Set min/maz useable image indices\n",
    "s.get_outliers(\"transitivity\",10,10)       # Set outlier threshhold\n",
    "s.set_bad_images([])         # Set bad images\n",
    "\n",
    "s.show_Rij(mask=True)"
   ]
  },
  {
   "cell_type": "code",
   "execution_count": 19,
   "metadata": {
    "collapsed": true
   },
   "outputs": [],
   "source": [
    "# Optionally, add or remove points from the outlier mask that were not correctly identified\n",
    "\n",
    "correct_pairs=[[11,12],[11,13]]\n",
    "incorrect_pairs=[[1,9]]\n",
    "\n",
    "for pair in correct_pairs:\n",
    "    i,j=pair[0],pair[1]\n",
    "    s.Rij_mask[i,j]=1\n",
    "    s.Rij_mask[j,i]=1\n",
    "for pair in incorrect_pairs:\n",
    "    i,j=pair[0],pair[1]\n",
    "    s.Rij_mask[i,j]=0\n",
    "    s.Rij_mask[j,i]=0\n",
    "    \n",
    "s.show_Rij()"
   ]
  },
  {
   "cell_type": "code",
   "execution_count": 20,
   "metadata": {
    "collapsed": true
   },
   "outputs": [],
   "source": [
    "s.Rij_mask[:5,15]=0\n",
    "s.Rij_mask[:3,18]=0\n",
    "s.Rij_mask[:8,24:26]=0\n",
    "s.Rij_mask[15,:5]=0\n",
    "s.Rij_mask[18,:3]=0\n",
    "s.Rij_mask[24:26,:8]=0\n",
    "\n",
    "s.show_Rij()"
   ]
  },
  {
   "cell_type": "code",
   "execution_count": null,
   "metadata": {
    "collapsed": true
   },
   "outputs": [],
   "source": []
  },
  {
   "cell_type": "markdown",
   "metadata": {},
   "source": [
    "### Remove outliers\n",
    "The make_corrected_Rij() method determines the correct values for outliers in the shift matrices using transitivity, and the show_Rij_c() method shows the corrected shift matrices.\n",
    "\n",
    "This step is optional, as it is performed automatically when get_average_image() is run if not called manually.\n",
    "However, manually calling make_corrected_Rij() is recommended so that the final shift matrices can be visually inspected to ensure physical consistency."
   ]
  },
  {
   "cell_type": "code",
   "execution_count": 21,
   "metadata": {
    "collapsed": true
   },
   "outputs": [],
   "source": [
    "s.make_corrected_Rij()\n",
    "s.show_Rij_c()"
   ]
  },
  {
   "cell_type": "code",
   "execution_count": null,
   "metadata": {
    "collapsed": true
   },
   "outputs": [],
   "source": []
  },
  {
   "cell_type": "markdown",
   "metadata": {},
   "source": [
    "### Calculate average image"
   ]
  },
  {
   "cell_type": "code",
   "execution_count": 22,
   "metadata": {
    "collapsed": true
   },
   "outputs": [],
   "source": [
    "# Create registered image stack and average\n",
    "\n",
    "s.get_averaged_image()"
   ]
  },
  {
   "cell_type": "code",
   "execution_count": 23,
   "metadata": {
    "collapsed": true
   },
   "outputs": [],
   "source": [
    "# Display final image\n",
    "\n",
    "s.show()"
   ]
  },
  {
   "cell_type": "code",
   "execution_count": 24,
   "metadata": {
    "collapsed": true
   },
   "outputs": [],
   "source": [
    "# Display report of registration procedure\n",
    "\n",
    "s.show_report()"
   ]
  },
  {
   "cell_type": "code",
   "execution_count": 25,
   "metadata": {
    "collapsed": true
   },
   "outputs": [],
   "source": [
    "# Save report of registration procedure\n",
    "\n",
    "s.save_report(\"/Users/Ben/Desktop/test_report.pdf\")"
   ]
  },
  {
   "cell_type": "code",
   "execution_count": null,
   "metadata": {
    "collapsed": true
   },
   "outputs": [],
   "source": []
  },
  {
   "cell_type": "markdown",
   "metadata": {
    "collapsed": true
   },
   "source": [
    "Note that the full field of view of the original data has been preserved in the final image for computational simplicity, however, data at the edges is not physically meaningful.  All shifts are stored as 1D arrays in the attributes shifts_x and shifts_y, thus to obtain the limits of physical meaningful data, use, e.g. s.shifts_x.max(), s.shifts_x.min(), etc."
   ]
  },
  {
   "cell_type": "code",
   "execution_count": null,
   "metadata": {
    "collapsed": true
   },
   "outputs": [],
   "source": []
  },
  {
   "cell_type": "code",
   "execution_count": null,
   "metadata": {
    "collapsed": true
   },
   "outputs": [],
   "source": []
  }
 ],
 "metadata": {
  "anaconda-cloud": {},
  "kernelspec": {
   "display_name": "Python [conda env:py3]",
   "language": "python",
   "name": "conda-env-py3-py"
  },
  "language_info": {
   "codemirror_mode": {
    "name": "ipython",
    "version": 3
   },
   "file_extension": ".py",
   "mimetype": "text/x-python",
   "name": "python",
   "nbconvert_exporter": "python",
   "pygments_lexer": "ipython3",
   "version": "3.5.2"
  }
 },
 "nbformat": 4,
 "nbformat_minor": 1
}
