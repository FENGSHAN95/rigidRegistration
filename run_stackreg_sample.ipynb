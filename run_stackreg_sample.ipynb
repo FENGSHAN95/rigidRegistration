{
 "cells": [
  {
   "cell_type": "code",
   "execution_count": 21,
   "metadata": {},
   "outputs": [
    {
     "name": "stdout",
     "output_type": "stream",
     "text": [
      "Using matplotlib backend: Qt4Agg\n"
     ]
    }
   ],
   "source": [
    "# Import global libraries\n",
    "import numpy as np\n",
    "import matplotlib.pyplot as plt\n",
    "from time import time\n",
    "from PIL import Image\n",
    "from tifffile import imread, imsave\n",
    "from importlib import reload\n",
    "\n",
    "# Import local libraries\n",
    "import stackregistration\n",
    "\n",
    "%matplotlib"
   ]
  },
  {
   "cell_type": "code",
   "execution_count": 22,
   "metadata": {
    "collapsed": true
   },
   "outputs": [],
   "source": [
    "# Load data\n",
    "f=\"../../sample_data/tiffs/50_s40_3.6mx_300kV_0.5us_1024px_1.tif\"\n",
    "stack=np.rollaxis(imread(f),0,3)\n",
    "stack=stack[:,:,:]/float(2**16)"
   ]
  },
  {
   "cell_type": "code",
   "execution_count": 40,
   "metadata": {
    "collapsed": true
   },
   "outputs": [],
   "source": [
    "# Examine data\n",
    "for i in range(4):\n",
    "    fig,ax=plt.subplots()\n",
    "    ax.matshow(stack[:,:,i],cmap='gray')\n",
    "    plt.show()"
   ]
  },
  {
   "cell_type": "code",
   "execution_count": 41,
   "metadata": {
    "collapsed": true
   },
   "outputs": [],
   "source": [
    "# Instantiate imstack object\n",
    "s=stackregistration.imstack(stack[:,:,:10])"
   ]
  },
  {
   "cell_type": "code",
   "execution_count": 24,
   "metadata": {
    "collapsed": true
   },
   "outputs": [],
   "source": [
    "# Get all FFTs\n",
    "s.getFFTs()"
   ]
  },
  {
   "cell_type": "code",
   "execution_count": 27,
   "metadata": {
    "collapsed": true
   },
   "outputs": [],
   "source": [
    "# Make Fourier mask\n",
    "s.makeFourierMask(mask=\"lowpass\",n=4)\n",
    "s.show_Fourier_mask()"
   ]
  },
  {
   "cell_type": "code",
   "execution_count": 7,
   "metadata": {
    "collapsed": true
   },
   "outputs": [],
   "source": [
    "# Change parameters for Gaussian fits and/or CoM detection\n",
    "s.setGaussianFitParams(num_peaks=3,sigma_guess=2,window_radius=6)\n",
    "s.setCoMParams(num_iter=3,min_window_frac=3)"
   ]
  },
  {
   "cell_type": "code",
   "execution_count": 30,
   "metadata": {},
   "outputs": [
    {
     "name": "stdout",
     "output_type": "stream",
     "text": [
      "Correlating images 0 and 1\n",
      "Correlating images 0 and 2\n",
      "Correlating images 0 and 3\n",
      "Correlating images 0 and 4\n",
      "Correlating images 0 and 5\n",
      "Correlating images 0 and 6\n",
      "Correlating images 0 and 7\n",
      "Correlating images 0 and 8\n",
      "Correlating images 0 and 9\n",
      "Correlating images 0 and 10\n",
      "Correlating images 0 and 11\n",
      "Correlating images 0 and 12\n",
      "Correlating images 0 and 13\n",
      "Correlating images 0 and 14\n",
      "Correlating images 0 and 15\n",
      "Correlating images 0 and 16\n",
      "Correlating images 0 and 17\n",
      "Correlating images 0 and 18\n",
      "Correlating images 0 and 19\n",
      "Correlating images 1 and 2\n",
      "Correlating images 1 and 3\n",
      "Correlating images 1 and 4\n",
      "Correlating images 1 and 5\n",
      "Correlating images 1 and 6\n",
      "Correlating images 1 and 7\n",
      "Correlating images 1 and 8\n",
      "Correlating images 1 and 9\n",
      "Correlating images 1 and 10\n",
      "Correlating images 1 and 11\n",
      "Correlating images 1 and 12\n",
      "Correlating images 1 and 13\n",
      "Correlating images 1 and 14\n",
      "Correlating images 1 and 15\n",
      "Correlating images 1 and 16\n",
      "Correlating images 1 and 17\n",
      "Correlating images 1 and 18\n",
      "Correlating images 1 and 19\n",
      "Correlating images 2 and 3\n",
      "Correlating images 2 and 4\n",
      "Correlating images 2 and 5\n",
      "Correlating images 2 and 6\n",
      "Correlating images 2 and 7\n",
      "Correlating images 2 and 8\n",
      "Correlating images 2 and 9\n",
      "Correlating images 2 and 10\n",
      "Correlating images 2 and 11\n",
      "Correlating images 2 and 12\n",
      "Correlating images 2 and 13\n",
      "Correlating images 2 and 14\n",
      "Correlating images 2 and 15\n",
      "Correlating images 2 and 16\n",
      "Correlating images 2 and 17\n",
      "Correlating images 2 and 18\n",
      "Correlating images 2 and 19\n",
      "Correlating images 3 and 4\n",
      "Correlating images 3 and 5\n",
      "Correlating images 3 and 6\n",
      "Correlating images 3 and 7\n",
      "Correlating images 3 and 8\n",
      "Correlating images 3 and 9\n",
      "Correlating images 3 and 10\n",
      "Correlating images 3 and 11\n",
      "Correlating images 3 and 12\n",
      "Correlating images 3 and 13\n",
      "Correlating images 3 and 14\n",
      "Correlating images 3 and 15\n",
      "Correlating images 3 and 16\n",
      "Correlating images 3 and 17\n",
      "Correlating images 3 and 18\n",
      "Correlating images 3 and 19\n",
      "Correlating images 4 and 5\n",
      "Correlating images 4 and 6\n",
      "Correlating images 4 and 7\n",
      "Correlating images 4 and 8\n",
      "Correlating images 4 and 9\n",
      "Correlating images 4 and 10\n",
      "Correlating images 4 and 11\n",
      "Correlating images 4 and 12\n",
      "Correlating images 4 and 13\n",
      "Correlating images 4 and 14\n",
      "Correlating images 4 and 15\n",
      "Correlating images 4 and 16\n",
      "Correlating images 4 and 17\n",
      "Correlating images 4 and 18\n",
      "Correlating images 4 and 19\n",
      "Correlating images 5 and 6\n",
      "Correlating images 5 and 7\n",
      "Correlating images 5 and 8\n",
      "Correlating images 5 and 9\n",
      "Correlating images 5 and 10\n",
      "Correlating images 5 and 11\n",
      "Correlating images 5 and 12\n",
      "Correlating images 5 and 13\n",
      "Correlating images 5 and 14\n",
      "Correlating images 5 and 15\n",
      "Correlating images 5 and 16\n",
      "Correlating images 5 and 17\n",
      "Correlating images 5 and 18\n",
      "Correlating images 5 and 19\n",
      "Correlating images 6 and 7\n",
      "Correlating images 6 and 8\n",
      "Correlating images 6 and 9\n",
      "Correlating images 6 and 10\n",
      "Correlating images 6 and 11\n",
      "Correlating images 6 and 12\n",
      "Correlating images 6 and 13\n",
      "Correlating images 6 and 14\n",
      "Correlating images 6 and 15\n",
      "Correlating images 6 and 16\n",
      "Correlating images 6 and 17\n",
      "Correlating images 6 and 18\n",
      "Correlating images 6 and 19\n",
      "Correlating images 7 and 8\n",
      "Correlating images 7 and 9\n",
      "Correlating images 7 and 10\n",
      "Correlating images 7 and 11\n",
      "Correlating images 7 and 12\n",
      "Correlating images 7 and 13\n",
      "Correlating images 7 and 14\n",
      "Correlating images 7 and 15\n",
      "Correlating images 7 and 16\n",
      "Correlating images 7 and 17\n",
      "Correlating images 7 and 18\n",
      "Correlating images 7 and 19\n",
      "Correlating images 8 and 9\n",
      "Correlating images 8 and 10\n",
      "Correlating images 8 and 11\n",
      "Correlating images 8 and 12\n",
      "Correlating images 8 and 13\n",
      "Correlating images 8 and 14\n",
      "Correlating images 8 and 15\n",
      "Correlating images 8 and 16\n",
      "Correlating images 8 and 17\n",
      "Correlating images 8 and 18\n",
      "Correlating images 8 and 19\n",
      "Correlating images 9 and 10\n",
      "Correlating images 9 and 11\n",
      "Correlating images 9 and 12\n",
      "Correlating images 9 and 13\n",
      "Correlating images 9 and 14\n",
      "Correlating images 9 and 15\n",
      "Correlating images 9 and 16\n",
      "Correlating images 9 and 17\n",
      "Correlating images 9 and 18\n",
      "Correlating images 9 and 19\n",
      "Correlating images 10 and 11\n",
      "Correlating images 10 and 12\n",
      "Correlating images 10 and 13\n",
      "Correlating images 10 and 14\n",
      "Correlating images 10 and 15\n",
      "Correlating images 10 and 16\n",
      "Correlating images 10 and 17\n",
      "Correlating images 10 and 18\n",
      "Correlating images 10 and 19\n",
      "Correlating images 11 and 12\n",
      "Correlating images 11 and 13\n",
      "Correlating images 11 and 14\n",
      "Correlating images 11 and 15\n",
      "Correlating images 11 and 16\n",
      "Correlating images 11 and 17\n",
      "Correlating images 11 and 18\n",
      "Correlating images 11 and 19\n",
      "Correlating images 12 and 13\n",
      "Correlating images 12 and 14\n",
      "Correlating images 12 and 15\n",
      "Correlating images 12 and 16\n",
      "Correlating images 12 and 17\n",
      "Correlating images 12 and 18\n",
      "Correlating images 12 and 19\n",
      "Correlating images 13 and 14\n",
      "Correlating images 13 and 15\n",
      "Correlating images 13 and 16\n",
      "Correlating images 13 and 17\n",
      "Correlating images 13 and 18\n",
      "Correlating images 13 and 19\n",
      "Correlating images 14 and 15\n",
      "Correlating images 14 and 16\n",
      "Correlating images 14 and 17\n",
      "Correlating images 14 and 18\n",
      "Correlating images 14 and 19\n",
      "Correlating images 15 and 16\n",
      "Correlating images 15 and 17\n",
      "Correlating images 15 and 18\n",
      "Correlating images 15 and 19\n",
      "Correlating images 16 and 17\n",
      "Correlating images 16 and 18\n",
      "Correlating images 16 and 19\n",
      "Correlating images 17 and 18\n",
      "Correlating images 17 and 19\n",
      "Correlating images 18 and 19\n",
      "Performed 190.0 correlations in 0 minutes 10.10377287864685 seconds\n"
     ]
    }
   ],
   "source": [
    "# Find all image shifts\n",
    "t0=time()\n",
    "s.findImageShifts(correlationType='cc',findMaxima='pixel')\n",
    "t=time()-t0\n",
    "print(\"Performed {} correlations in {} minutes {} seconds\".format(s.nz*(s.nz-1)/2,int(t/60),t%60))"
   ]
  },
  {
   "cell_type": "code",
   "execution_count": 31,
   "metadata": {
    "collapsed": true
   },
   "outputs": [],
   "source": [
    "# Show Xij and Yij matrices\n",
    "s.show_Rij()"
   ]
  },
  {
   "cell_type": "code",
   "execution_count": 37,
   "metadata": {
    "collapsed": true
   },
   "outputs": [],
   "source": [
    "# Create mask, defining unuseable data points\n",
    "s.set_nz(0,20)               # Set min/maz useable image indices\n",
    "s.set_bad_images([])         # Set bad images\n",
    "s.get_outliers(\"NN\",9)       # Set outlier threshhold\n",
    "s.show_Rij(mask=True)"
   ]
  },
  {
   "cell_type": "code",
   "execution_count": 38,
   "metadata": {
    "collapsed": true
   },
   "outputs": [],
   "source": [
    "# Create registered image stack and average\n",
    "s.get_averaged_image()"
   ]
  },
  {
   "cell_type": "code",
   "execution_count": 39,
   "metadata": {
    "collapsed": true
   },
   "outputs": [],
   "source": [
    "# Display\n",
    "s.show()"
   ]
  },
  {
   "cell_type": "code",
   "execution_count": 26,
   "metadata": {
    "collapsed": true
   },
   "outputs": [],
   "source": [
    "# Show and/or save report\n",
    "s.show_report()\n",
    "s.save_report('/Users/Ben/Desktop/report.pdf')"
   ]
  },
  {
   "cell_type": "code",
   "execution_count": 27,
   "metadata": {
    "collapsed": true
   },
   "outputs": [],
   "source": [
    "# Save output image\n",
    "imsave(\"/Users/Ben/Desktop/testimage.tif\",s.average_image.astype('float32'))"
   ]
  },
  {
   "cell_type": "code",
   "execution_count": null,
   "metadata": {
    "collapsed": true
   },
   "outputs": [],
   "source": []
  },
  {
   "cell_type": "code",
   "execution_count": null,
   "metadata": {
    "collapsed": true
   },
   "outputs": [],
   "source": []
  },
  {
   "cell_type": "code",
   "execution_count": null,
   "metadata": {
    "collapsed": true
   },
   "outputs": [],
   "source": []
  },
  {
   "cell_type": "code",
   "execution_count": null,
   "metadata": {
    "collapsed": true
   },
   "outputs": [],
   "source": []
  }
 ],
 "metadata": {
  "anaconda-cloud": {},
  "kernelspec": {
   "display_name": "Python [conda env:py3]",
   "language": "python",
   "name": "conda-env-py3-py"
  },
  "language_info": {
   "codemirror_mode": {
    "name": "ipython",
    "version": 3
   },
   "file_extension": ".py",
   "mimetype": "text/x-python",
   "name": "python",
   "nbconvert_exporter": "python",
   "pygments_lexer": "ipython3",
   "version": "3.5.2"
  }
 },
 "nbformat": 4,
 "nbformat_minor": 1
}
