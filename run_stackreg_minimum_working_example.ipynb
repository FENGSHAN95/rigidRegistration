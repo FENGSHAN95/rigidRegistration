{
 "cells": [
  {
   "cell_type": "code",
   "execution_count": 1,
   "metadata": {},
   "outputs": [
    {
     "name": "stderr",
     "output_type": "stream",
     "text": [
      "/Users/Ben/Code/anaconda2/envs/py3/lib/python3.5/site-packages/matplotlib/__init__.py:872: UserWarning: axes.color_cycle is deprecated and replaced with axes.prop_cycle; please use the latter.\n",
      "  warnings.warn(self.msg_depr % (key, alt_key))\n"
     ]
    },
    {
     "name": "stdout",
     "output_type": "stream",
     "text": [
      "Using matplotlib backend: Qt4Agg\n"
     ]
    }
   ],
   "source": [
    "# Import global libraries\n",
    "import numpy as np\n",
    "import matplotlib.pyplot as plt\n",
    "from time import time\n",
    "from PIL import Image\n",
    "from tifffile import imread, imsave\n",
    "from importlib import reload\n",
    "\n",
    "# Import local libraries\n",
    "import stackregistration\n",
    "\n",
    "%matplotlib"
   ]
  },
  {
   "cell_type": "code",
   "execution_count": 2,
   "metadata": {
    "collapsed": true
   },
   "outputs": [],
   "source": [
    "# Load data\n",
    "f=\"../../sample_data/tiffs/50_s40_3.6mx_300kV_0.5us_1024px_1.tif\"\n",
    "stack=np.rollaxis(imread(f),0,3)\n",
    "stack=stack[:,:,:]/float(2**16)"
   ]
  },
  {
   "cell_type": "code",
   "execution_count": 3,
   "metadata": {
    "collapsed": true
   },
   "outputs": [],
   "source": [
    "# Instantiate imstack object\n",
    "s=stackregistration.imstack(stack[:,:800,:10])"
   ]
  },
  {
   "cell_type": "code",
   "execution_count": 4,
   "metadata": {},
   "outputs": [
    {
     "name": "stdout",
     "output_type": "stream",
     "text": [
      "Correlating images 0 and 1\n",
      "Correlating images 0 and 2\n"
     ]
    },
    {
     "name": "stderr",
     "output_type": "stream",
     "text": [
      "/Users/Ben/Work/Projects/Active/rigidRegistration/code/rigidRegistration_v1.2/stackregistration.py:301: VisibleDeprecationWarning: using a non-integer number instead of an integer will result in an error in the future\n",
      "  cc[shifts[i,0],shifts[i,1]]=0\n",
      "/Users/Ben/Work/Projects/Active/rigidRegistration/code/rigidRegistration_v1.2/utils.py:75: VisibleDeprecationWarning: using a non-integer number instead of an integer will result in an error in the future\n",
      "  return im[x0-radius:x0+radius+1, y0-radius:y0+radius+1]\n"
     ]
    },
    {
     "name": "stdout",
     "output_type": "stream",
     "text": [
      "Correlating images 0 and 3\n",
      "Correlating images 0 and 4\n",
      "Correlating images 0 and 5\n",
      "Correlating images 0 and 6\n",
      "Correlating images 0 and 7\n",
      "Correlating images 0 and 8\n",
      "Correlating images 0 and 9\n",
      "Correlating images 1 and 2\n",
      "Correlating images 1 and 3\n",
      "Correlating images 1 and 4\n",
      "Correlating images 1 and 5\n",
      "Correlating images 1 and 6\n",
      "Correlating images 1 and 7\n",
      "Correlating images 1 and 8\n",
      "Correlating images 1 and 9\n",
      "Correlating images 2 and 3\n",
      "Correlating images 2 and 4\n",
      "Correlating images 2 and 5\n",
      "Correlating images 2 and 6\n",
      "Correlating images 2 and 7\n",
      "Correlating images 2 and 8\n",
      "Correlating images 2 and 9\n",
      "Correlating images 3 and 4\n",
      "Correlating images 3 and 5\n",
      "Correlating images 3 and 6\n",
      "Correlating images 3 and 7\n",
      "Correlating images 3 and 8\n",
      "Correlating images 3 and 9\n",
      "Correlating images 4 and 5\n",
      "Correlating images 4 and 6\n",
      "Correlating images 4 and 7\n",
      "Correlating images 4 and 8\n",
      "Correlating images 4 and 9\n",
      "Correlating images 5 and 6\n",
      "Correlating images 5 and 7\n",
      "Correlating images 5 and 8\n",
      "Correlating images 5 and 9\n",
      "Correlating images 6 and 7\n",
      "Correlating images 6 and 8\n",
      "Correlating images 6 and 9\n",
      "Correlating images 7 and 8\n",
      "Correlating images 7 and 9\n",
      "Correlating images 8 and 9\n",
      "Performed 45.0 correlations in 0 minutes 4.618860960006714 seconds\n"
     ]
    }
   ],
   "source": [
    "# Find all image shifts\n",
    "t0=time()\n",
    "s.findImageShifts(correlationType='mc',findMaxima='gf')\n",
    "t=time()-t0\n",
    "print(\"Performed {} correlations in {} minutes {} seconds\".format(s.nz*(s.nz-1)/2,int(t/60),t%60))"
   ]
  },
  {
   "cell_type": "code",
   "execution_count": 5,
   "metadata": {
    "collapsed": true
   },
   "outputs": [],
   "source": [
    "# Create registered image stack and average\n",
    "s.get_averaged_image()\n",
    "s.show()"
   ]
  },
  {
   "cell_type": "code",
   "execution_count": 26,
   "metadata": {
    "collapsed": true
   },
   "outputs": [],
   "source": [
    "# Show and/or save report\n",
    "s.show_report()\n",
    "s.save_report('/Users/Ben/Desktop/report.pdf')"
   ]
  },
  {
   "cell_type": "code",
   "execution_count": 27,
   "metadata": {
    "collapsed": true
   },
   "outputs": [],
   "source": [
    "# Save output image\n",
    "imsave(\"/Users/Ben/Desktop/testimage.tif\",s.average_image.astype('float32'))"
   ]
  },
  {
   "cell_type": "code",
   "execution_count": null,
   "metadata": {
    "collapsed": true
   },
   "outputs": [],
   "source": []
  },
  {
   "cell_type": "code",
   "execution_count": null,
   "metadata": {
    "collapsed": true
   },
   "outputs": [],
   "source": []
  },
  {
   "cell_type": "code",
   "execution_count": 7,
   "metadata": {},
   "outputs": [
    {
     "data": {
      "text/plain": [
       "array([0, 1, 2, 3, 4, 5, 6, 7, 8, 9])"
      ]
     },
     "execution_count": 7,
     "metadata": {},
     "output_type": "execute_result"
    }
   ],
   "source": [
    "a=np.arange(10)\n",
    "a"
   ]
  },
  {
   "cell_type": "code",
   "execution_count": 9,
   "metadata": {},
   "outputs": [
    {
     "data": {
      "text/plain": [
       "array([8, 9])"
      ]
     },
     "execution_count": 9,
     "metadata": {},
     "output_type": "execute_result"
    }
   ],
   "source": [
    "j=9\n",
    "a[9]\n",
    "a[j-1:j+1]"
   ]
  },
  {
   "cell_type": "code",
   "execution_count": null,
   "metadata": {
    "collapsed": true
   },
   "outputs": [],
   "source": []
  }
 ],
 "metadata": {
  "anaconda-cloud": {},
  "kernelspec": {
   "display_name": "Python [conda env:py3]",
   "language": "python",
   "name": "conda-env-py3-py"
  },
  "language_info": {
   "codemirror_mode": {
    "name": "ipython",
    "version": 3
   },
   "file_extension": ".py",
   "mimetype": "text/x-python",
   "name": "python",
   "nbconvert_exporter": "python",
   "pygments_lexer": "ipython3",
   "version": "3.5.2"
  }
 },
 "nbformat": 4,
 "nbformat_minor": 1
}
